{
  "nbformat": 4,
  "nbformat_minor": 0,
  "metadata": {
    "colab": {
      "provenance": [],
      "authorship_tag": "ABX9TyOJa7WYpInEMLR3kWm8KoxF",
      "include_colab_link": true
    },
    "kernelspec": {
      "name": "python3",
      "display_name": "Python 3"
    },
    "language_info": {
      "name": "python"
    }
  },
  "cells": [
    {
      "cell_type": "markdown",
      "metadata": {
        "id": "view-in-github",
        "colab_type": "text"
      },
      "source": [
        "<a href=\"https://colab.research.google.com/github/Qualot/3D-projection-tutorial/blob/main/restoring_force_derivation.ipynb\" target=\"_parent\"><img src=\"https://colab.research.google.com/assets/colab-badge.svg\" alt=\"Open In Colab\"/></a>"
      ]
    },
    {
      "cell_type": "code",
      "execution_count": 2,
      "metadata": {
        "id": "ZVTYL-Zrgi19"
      },
      "outputs": [],
      "source": [
        "import sympy"
      ]
    },
    {
      "cell_type": "code",
      "source": [
        "x = sympy.Symbol('x')\n",
        "y = sympy.Symbol('y')\n",
        "d = sympy.Symbol('d')\n",
        "w = sympy.Symbol('w')\n",
        "t = sympy.Symbol('t')\n",
        "E = sympy.Symbol('E_{NR}', positive=True, constant=True)\n",
        "\n",
        "m = sympy.Symbol('E', positive=True, constant=True)\n",
        "g = sympy.Symbol('E', positive=True, constant=True)\n",
        "\n",
        "mu, Y = sympy.symbols('mu Y', real = True, constant = True)\n",
        "sigma = sympy.symbols('sigma', real = True, positive=True)\n",
        "print(type(x))"
      ],
      "metadata": {
        "colab": {
          "base_uri": "https://localhost:8080/"
        },
        "id": "UVjkilvLgzAQ",
        "outputId": "9a1c7484-e4b9-4256-c544-10643113568c"
      },
      "execution_count": 16,
      "outputs": [
        {
          "output_type": "stream",
          "name": "stdout",
          "text": [
            "<class 'sympy.core.symbol.Symbol'>\n"
          ]
        }
      ]
    },
    {
      "cell_type": "code",
      "source": [
        "expr = x**2 + 2*y\n",
        "display(expr) #instead of print()"
      ],
      "metadata": {
        "colab": {
          "base_uri": "https://localhost:8080/",
          "height": 38
        },
        "id": "HoGru1gbg37I",
        "outputId": "f2c0c336-e7c0-40a3-ae67-78b873987d31"
      },
      "execution_count": 22,
      "outputs": [
        {
          "output_type": "display_data",
          "data": {
            "text/plain": [
              "x**2 + 2*y"
            ],
            "text/latex": "$\\displaystyle x^{2} + 2 y$"
          },
          "metadata": {}
        }
      ]
    },
    {
      "cell_type": "code",
      "source": [
        "K = E * 2 * w * t / (sympy.pi *d)\n",
        "display(K)"
      ],
      "metadata": {
        "colab": {
          "base_uri": "https://localhost:8080/",
          "height": 52
        },
        "id": "zIb7db_fhP39",
        "outputId": "0616c6e9-7624-4b4a-c69e-7d5eec227ed1"
      },
      "execution_count": 25,
      "outputs": [
        {
          "output_type": "display_data",
          "data": {
            "text/plain": [
              "2*E_{NR}*t*w/(pi*d)"
            ],
            "text/latex": "$\\displaystyle \\frac{2 E_{NR} t w}{\\pi d}$"
          },
          "metadata": {}
        }
      ]
    },
    {
      "cell_type": "code",
      "source": [
        "sympy.diff(K,d)"
      ],
      "metadata": {
        "colab": {
          "base_uri": "https://localhost:8080/",
          "height": 52
        },
        "id": "LD-aKqP1WUrg",
        "outputId": "d370abc6-8256-4894-bbe3-f9d2a32a4783"
      },
      "execution_count": 19,
      "outputs": [
        {
          "output_type": "execute_result",
          "data": {
            "text/plain": [
              "-E_{NR}*t*w/d**2"
            ],
            "text/latex": "$\\displaystyle - \\frac{E_{NR} t w}{d^{2}}$"
          },
          "metadata": {},
          "execution_count": 19
        }
      ]
    },
    {
      "cell_type": "code",
      "source": [
        "display(K)"
      ],
      "metadata": {
        "colab": {
          "base_uri": "https://localhost:8080/",
          "height": 52
        },
        "id": "AFz8Q-n4WgTL",
        "outputId": "e4660c89-02f2-4bfd-973c-3e1c4ef56851"
      },
      "execution_count": 20,
      "outputs": [
        {
          "output_type": "display_data",
          "data": {
            "text/plain": [
              "E_{NR}*t*w/d"
            ],
            "text/latex": "$\\displaystyle \\frac{E_{NR} t w}{d}$"
          },
          "metadata": {}
        }
      ]
    },
    {
      "cell_type": "code",
      "source": [],
      "metadata": {
        "id": "XERU2sWuZm6J"
      },
      "execution_count": null,
      "outputs": []
    }
  ]
}