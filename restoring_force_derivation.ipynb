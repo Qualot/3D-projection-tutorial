{
  "nbformat": 4,
  "nbformat_minor": 0,
  "metadata": {
    "colab": {
      "provenance": [],
      "authorship_tag": "ABX9TyMl/blCFXP/dYBxAUuHX9XI",
      "include_colab_link": true
    },
    "kernelspec": {
      "name": "python3",
      "display_name": "Python 3"
    },
    "language_info": {
      "name": "python"
    }
  },
  "cells": [
    {
      "cell_type": "markdown",
      "metadata": {
        "id": "view-in-github",
        "colab_type": "text"
      },
      "source": [
        "<a href=\"https://colab.research.google.com/github/Qualot/3D-projection-tutorial/blob/main/restoring_force_derivation.ipynb\" target=\"_parent\"><img src=\"https://colab.research.google.com/assets/colab-badge.svg\" alt=\"Open In Colab\"/></a>"
      ]
    },
    {
      "cell_type": "code",
      "execution_count": 2,
      "metadata": {
        "id": "ZVTYL-Zrgi19"
      },
      "outputs": [],
      "source": [
        "import sympy"
      ]
    },
    {
      "cell_type": "code",
      "source": [
        "x = sympy.Symbol('x')\n",
        "y = sympy.Symbol('y')\n",
        "d = sympy.Symbol('d')\n",
        "w = sympy.Symbol('w')\n",
        "t = sympy.Symbol('t')\n",
        "E = sympy.Symbol('E', positive=True, constant=True)\n",
        "\n",
        "mu, Y = sympy.symbols('mu Y', real = True, constant = True)\n",
        "sigma = sympy.symbols('sigma', real = True, positive=True)\n",
        "print(type(x))"
      ],
      "metadata": {
        "colab": {
          "base_uri": "https://localhost:8080/"
        },
        "id": "UVjkilvLgzAQ",
        "outputId": "0ad537c2-8b3e-44da-9039-dbbd6740e154"
      },
      "execution_count": 7,
      "outputs": [
        {
          "output_type": "stream",
          "name": "stdout",
          "text": [
            "<class 'sympy.core.symbol.Symbol'>\n"
          ]
        }
      ]
    },
    {
      "cell_type": "code",
      "source": [
        "expr = x**2 + 2*y\n",
        "expr"
      ],
      "metadata": {
        "colab": {
          "base_uri": "https://localhost:8080/",
          "height": 38
        },
        "id": "HoGru1gbg37I",
        "outputId": "eec3bc21-ea84-4dad-d3f2-3ae427b0acf3"
      },
      "execution_count": 5,
      "outputs": [
        {
          "output_type": "execute_result",
          "data": {
            "text/plain": [
              "x**2 + 2*y"
            ],
            "text/latex": "$\\displaystyle x^{2} + 2 y$"
          },
          "metadata": {},
          "execution_count": 5
        }
      ]
    },
    {
      "cell_type": "code",
      "source": [
        "K = E * w * t / d\n",
        "K"
      ],
      "metadata": {
        "colab": {
          "base_uri": "https://localhost:8080/",
          "height": 52
        },
        "id": "zIb7db_fhP39",
        "outputId": "ea9fc3b9-1450-40c8-9aa5-d1709f5656c5"
      },
      "execution_count": 9,
      "outputs": [
        {
          "output_type": "execute_result",
          "data": {
            "text/plain": [
              "E*t*w/d"
            ],
            "text/latex": "$\\displaystyle \\frac{E t w}{d}$"
          },
          "metadata": {},
          "execution_count": 9
        }
      ]
    },
    {
      "cell_type": "code",
      "source": [
        "sympy.diff(K,d)"
      ],
      "metadata": {
        "colab": {
          "base_uri": "https://localhost:8080/",
          "height": 52
        },
        "id": "LD-aKqP1WUrg",
        "outputId": "306d43e3-febc-42b2-d5f9-000e60a3b7c6"
      },
      "execution_count": 10,
      "outputs": [
        {
          "output_type": "execute_result",
          "data": {
            "text/plain": [
              "-E*t*w/d**2"
            ],
            "text/latex": "$\\displaystyle - \\frac{E t w}{d^{2}}$"
          },
          "metadata": {},
          "execution_count": 10
        }
      ]
    },
    {
      "cell_type": "code",
      "source": [],
      "metadata": {
        "id": "AFz8Q-n4WgTL"
      },
      "execution_count": null,
      "outputs": []
    }
  ]
}